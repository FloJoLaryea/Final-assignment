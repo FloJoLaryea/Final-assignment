{
 "cells": [
  {
   "cell_type": "markdown",
   "id": "f61deca7",
   "metadata": {},
   "source": [
    "# Data Science Tools and Ecosystem"
   ]
  },
  {
   "cell_type": "markdown",
   "id": "07c69a1d",
   "metadata": {},
   "source": [
    "## In this notebook, Data Science Tools and Ecosystem are summarized."
   ]
  },
  {
   "cell_type": "markdown",
   "id": "2c13c51b",
   "metadata": {},
   "source": [
    "## **Objectives:**\n",
    "- Github, Python, IBM Watson Studio and R\n",
    "- Data Science tools: Open-source, commercial and cloud-based\n",
    "- Libraries in Data Science\n",
    "- Languages in Data Science"
   ]
  },
  {
   "cell_type": "markdown",
   "id": "b23d8027",
   "metadata": {},
   "source": [
    "## Some of the popular languages that Data Scientists use are:\n",
    "1. Python\n",
    "2. JAVA\n",
    "3. R\n",
    "4. Juila"
   ]
  },
  {
   "cell_type": "markdown",
   "id": "ec11ca8d",
   "metadata": {},
   "source": [
    "## Some of the commonly used libraries used by Data Scientists include:\n",
    "1. Pandas\n",
    "2. Seaborn\n",
    "3. Numpy\n",
    "4. Matplotlib\n",
    "5. Sckit-learn"
   ]
  },
  {
   "cell_type": "markdown",
   "id": "03c49a5d",
   "metadata": {},
   "source": [
    "|Data Science Tools|\n",
    "|:-----------------|\n",
    "|Jupyter|\n",
    "|Rstudio|\n",
    "|Watson Studio Desktop|"
   ]
  },
  {
   "cell_type": "markdown",
   "id": "52772ad6",
   "metadata": {},
   "source": [
    "### Below are a few examples of evaluating arithmetic expressions in Python"
   ]
  },
  {
   "cell_type": "markdown",
   "id": "9d7221b5",
   "metadata": {},
   "source": [
    "*This a simple arithmetic expression to mutiply then add integers*"
   ]
  },
  {
   "cell_type": "code",
   "execution_count": 3,
   "id": "ce17620e",
   "metadata": {},
   "outputs": [
    {
     "data": {
      "text/plain": [
       "17"
      ]
     },
     "execution_count": 3,
     "metadata": {},
     "output_type": "execute_result"
    }
   ],
   "source": [
    "(3*4)+5"
   ]
  },
  {
   "cell_type": "markdown",
   "id": "d645e01e",
   "metadata": {},
   "source": [
    "*This will convert 200 minutes to hours by diving by 60*"
   ]
  },
  {
   "cell_type": "code",
   "execution_count": 8,
   "id": "4824cc5b",
   "metadata": {},
   "outputs": [
    {
     "name": "stdout",
     "output_type": "stream",
     "text": [
      "3.3333333333333335\n"
     ]
    }
   ],
   "source": [
    "time = int(200)\n",
    "hours =time/60\n",
    "print(hours)"
   ]
  },
  {
   "cell_type": "markdown",
   "id": "61444d96",
   "metadata": {},
   "source": [
    "## Author"
   ]
  },
  {
   "cell_type": "markdown",
   "id": "241cde51",
   "metadata": {},
   "source": [
    "Florence Laryea"
   ]
  }
 ],
 "metadata": {
  "kernelspec": {
   "display_name": "Python 3 (ipykernel)",
   "language": "python",
   "name": "python3"
  },
  "language_info": {
   "codemirror_mode": {
    "name": "ipython",
    "version": 3
   },
   "file_extension": ".py",
   "mimetype": "text/x-python",
   "name": "python",
   "nbconvert_exporter": "python",
   "pygments_lexer": "ipython3",
   "version": "3.10.9"
  }
 },
 "nbformat": 4,
 "nbformat_minor": 5
}
